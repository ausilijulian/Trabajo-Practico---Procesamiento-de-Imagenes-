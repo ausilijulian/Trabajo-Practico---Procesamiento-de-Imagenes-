{
  "nbformat": 4,
  "nbformat_minor": 0,
  "metadata": {
    "colab": {
      "provenance": []
    },
    "kernelspec": {
      "name": "python3",
      "display_name": "Python 3"
    },
    "language_info": {
      "name": "python"
    }
  },
  "cells": [
    {
      "cell_type": "markdown",
      "source": [
        "#Proyecto 2"
      ],
      "metadata": {
        "id": "5O0WolH98yGB"
      }
    },
    {
      "cell_type": "markdown",
      "source": [
        "##Ejercicio 1"
      ],
      "metadata": {
        "id": "PIPEVLi5847Q"
      }
    },
    {
      "cell_type": "code",
      "source": [
        "from PIL import Image\n",
        "import matplotlib.pyplot as plt\n",
        "\n",
        "\n",
        "def redSocial(ruta, plataforma):\n",
        "    if plataforma.capitalize() == \"Youtube\":\n",
        "        img = Image.open(ruta).resize((720,360))\n",
        "    if plataforma.capitalize() == \"Instagram\":\n",
        "        img = Image.open(ruta).resize((640, 640))\n",
        "    if plataforma.capitalize()== \"Twitter\":\n",
        "        img = Image.open(ruta).resize((512, 256))\n",
        "    if plataforma.capitalize() == \"Facebook\":\n",
        "        img = Image.open(ruta).resize((600, 600))\n",
        "    return img.show()\n",
        "\n",
        "def ajustarTamanio(ruta1, ruta2):\n",
        "    img1 = Image.open(ruta1)\n",
        "    img2 = Image.open(ruta2)\n",
        "    size= img1.size\n",
        "    img2 = img2.resize((size))\n",
        "    fig, ax = plt.subplots(1,2,figsize=(10,10))\n",
        "    ax[0].imshow(img1)\n",
        "    ax[1].imshow(img2)\n",
        "    return plt.show()"
      ],
      "metadata": {
        "id": "qPCM7Wl48620"
      },
      "execution_count": 1,
      "outputs": []
    },
    {
      "cell_type": "markdown",
      "source": [
        "##Ejercicio 2"
      ],
      "metadata": {
        "id": "Nx-ZqtFj9fQo"
      }
    },
    {
      "cell_type": "code",
      "source": [
        "from PIL import Image\n",
        "from PIL.ImageFilter import (CONTOUR,EDGE_ENHANCE,EMBOSS,SHARPEN,BLUR,DETAIL,EDGE_ENHANCE_MORE,FIND_EDGES,SMOOTH)\n",
        "import matplotlib.pyplot as plt\n",
        "\n",
        "#hice una lista con todos los objetos filtros\n",
        "list=[CONTOUR,EDGE_ENHANCE,EMBOSS,SHARPEN,BLUR,DETAIL,EDGE_ENHANCE_MORE,FIND_EDGES,SMOOTH]\n",
        "\n",
        "ruta = 'C:/Users/rjaus/Downloads/ejercicio2.jpg'\n",
        "img = Image.open(ruta)\n",
        "\n",
        "#un ciclo que recorre la lista, aplica los filtros, muestra y guarda la imagen.\n",
        "\n",
        "for i in list:\n",
        "    filtro = img.filter(i)\n",
        "    filtro.show()\n",
        "    filtro.save(f'img{i.name}.jpg')  #atributo name es STR\n"
      ],
      "metadata": {
        "id": "KY35zLJC9lvO"
      },
      "execution_count": null,
      "outputs": []
    },
    {
      "cell_type": "markdown",
      "source": [
        "##Ejercicio 3"
      ],
      "metadata": {
        "id": "BRW1EsR19vT8"
      }
    },
    {
      "cell_type": "code",
      "source": [
        "#use el waitKey porque en pycharm se abria la ventana y se cerraba automaticamente\n",
        "\n",
        "\n",
        "def equHisto(ruta):\n",
        "    import cv2\n",
        "    img = cv2.imread(ruta, 0)  # el 0 para escala de grises\n",
        "    # Ecualizacion del histograma\n",
        "    equ = cv2.equalizeHist(img)\n",
        "    return cv2.imshow('equal',equ)\n",
        "\n",
        "\n",
        "import cv2\n",
        "equHisto('C:/Users/rjaus/Downloads/ejercicio3.jpg')\n",
        "cv2.waitKey(2000)"
      ],
      "metadata": {
        "id": "ux-BN2t39xrP"
      },
      "execution_count": null,
      "outputs": []
    },
    {
      "cell_type": "markdown",
      "source": [
        "##Ejercicio 4"
      ],
      "metadata": {
        "id": "WbuoaaJ0-NvI"
      }
    },
    {
      "cell_type": "code",
      "source": [
        "def retrato(ruta):\n",
        "    from PIL import Image\n",
        "    from PIL.ImageFilter import (SHARPEN, FIND_EDGES, SMOOTH)\n",
        "    retrato = Image.open(ruta)\n",
        "    retrato_g = retrato.convert('L') #convierto a escala de grises\n",
        "    threshold = 130 #aplico la mascara probando que threshold va mejor\n",
        "    mask_retrato = retrato_g.point(lambda p: 255 if p > threshold else 0)\n",
        "    mask_retrato = mask_retrato.filter(FIND_EDGES) # busco bordes\n",
        "    # filtros de suavizado y afilado\n",
        "    mask_retrato = mask_retrato.filter(SMOOTH)\n",
        "    mask_retrato = mask_retrato.filter(SHARPEN)\n",
        "    return  mask_retrato.show()\n",
        "\n",
        "\n"
      ],
      "metadata": {
        "id": "swzaZNeq-P0g"
      },
      "execution_count": null,
      "outputs": []
    },
    {
      "cell_type": "markdown",
      "source": [
        "##Ejercicio 5"
      ],
      "metadata": {
        "id": "meXgAGCa-h28"
      }
    },
    {
      "cell_type": "code",
      "source": [
        "from PIL import Image,ImageDraw\n",
        "\n",
        "\n",
        "#ruta = 'C:/Users/rjaus/Downloads/lote.jpg'\n",
        "#img = Image.open(ruta)\n",
        "#img_L = img.convert('L')\n",
        "#mask = Image.new('L', (img.width, img.height), (255))\n",
        "#mask_draw = ImageDraw.Draw(mask)\n",
        "#mask_draw.polygon([(175,400),(325,240),(505,290),(450,400)], fill=0)\n",
        "#img_comp = Image.composite(img_L, img, mask)\n",
        "#img_comp.show()\n",
        "\n",
        "\n",
        "def oneMask(ruta,punto1,punto2,punto3,punto4):\n",
        "    img = Image.open(ruta)\n",
        "    img_L = img.convert('L')\n",
        "    mask = Image.new('L', (img.width, img.height), (255))\n",
        "    mask_draw = ImageDraw.Draw(mask)\n",
        "    mask_draw.polygon([punto1,punto2,punto3,punto4], fill=0)\n",
        "    img_comp = Image.composite(img_L, img, mask)\n",
        "    return img_comp.show()\n",
        "\n",
        "def twoMask(ruta,puntoA,puntoB,puntoC,puntoD,punto1,punto2,punto3,punto4):\n",
        "    img = Image.open(ruta)\n",
        "    img_L = img.convert('L')  #se crea una imagen en escala de grises\n",
        "    mask = Image.new('L', (img.width, img.height), (255)) # se crea una imagen con formato escala de grises, se le da el mismo ancho y \n",
        "                                                          #alto que la imagen original, y se le da un color blanco en el utlimo parametro (255).\n",
        "\n",
        "    mask_draw = ImageDraw.Draw(mask) #se crea una variable que forma una imagen para graficar, sobre el fondo mask(que es la imagen blanca)\n",
        "    mask_draw.polygon([puntoA, puntoB, puntoC, puntoD], fill=0) #se forma una figura uniendo todos los puntos en sentido horario, y se pinta de negro (fill=0)\n",
        "    mask_draw.polygon([punto1, punto2, punto3, punto4], fill=0) #\"                                                                                            \"\n",
        "\n",
        "    img_comp = Image.composite(img_L, img, mask)  #se forma una imagen compuesta que: en donde la imagen mask(anteriormente graficada),sea negra,\n",
        "                                                  #toma los valores de la imagen original(img), y donde es blanca toma los valores de la imagem en escala de grises(img_L)\n",
        "    return img_comp.show()\n",
        "\n",
        "\n",
        "oneMask('C:/Users/rjaus/Downloads/lote.jpg',(175,400),(325,240),(505,290),(450,400))\n",
        "twoMask('C:/Users/rjaus/Downloads/lote.jpg',(175,400),(325,240),(505,290),(450,400),(311,84),(387,30),(448,40),(382,97))"
      ],
      "metadata": {
        "id": "gv-nK6P1-j89"
      },
      "execution_count": null,
      "outputs": []
    }
  ]
}